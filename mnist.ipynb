{
 "cells": [
  {
   "cell_type": "code",
   "execution_count": 1,
   "metadata": {},
   "outputs": [],
   "source": [
    "import numpy as np\n",
    "import matplotlib.pyplot as plt\n",
    "import Levenshtein"
   ]
  },
  {
   "cell_type": "code",
   "execution_count": 2,
   "metadata": {},
   "outputs": [],
   "source": [
    "def read_idx3(filename):\n",
    "    with open(filename, 'rb') as fo:\n",
    "        buf = fo.read()\n",
    "        \n",
    "        index = 0\n",
    "        header = np.frombuffer(buf, '>i', 4, index)\n",
    "        \n",
    "        index += header.size * header.itemsize\n",
    "        data = np.frombuffer(buf, '>B', header[1] * header[2] * header[3], index).reshape(header[1], -1)\n",
    "        \n",
    "        return data\n",
    "    \n",
    "def read_idx1(filename):\n",
    "    with open(filename, 'rb') as fo:\n",
    "        buf = fo.read()\n",
    "        \n",
    "        index = 0\n",
    "        header = np.frombuffer(buf, '>i', 2, index)\n",
    "        \n",
    "        index += header.size * header.itemsize\n",
    "        data = np.frombuffer(buf, '>B', header[1], index)\n",
    "        \n",
    "        return data"
   ]
  },
  {
   "cell_type": "code",
   "execution_count": 3,
   "metadata": {},
   "outputs": [
    {
     "name": "stdout",
     "output_type": "stream",
     "text": [
      "(60000,) (60000, 784)\n"
     ]
    }
   ],
   "source": [
    "train_labels = read_idx1(\"mnist/train-labels.idx1-ubyte\")\n",
    "\n",
    "train_images = read_idx3(\"mnist/train-images.idx3-ubyte\")\n",
    "\n",
    "print(train_labels.shape, train_images.shape)"
   ]
  },
  {
   "cell_type": "code",
   "execution_count": 4,
   "metadata": {},
   "outputs": [
    {
     "name": "stdout",
     "output_type": "stream",
     "text": [
      "[  0   0   0   0   0   0   0   0   0   0   0   0   0   0   0   0   0   0\n",
      "   0   0   0   0   0   0   0   0   0   0   0   0   0   0   0   0   0   0\n",
      "   0   0   0   0   0   0   0   0   0   0   0   0   0   0   0   0   0   0\n",
      "   0   0   0   0   0   0   0   0   0   0   0   0   0   0   0   0   0   0\n",
      "   0   0   0   0   0   0   0   0   0   0   0   0   0   0   0   0   0   0\n",
      "   0   0   0   0   0   0   0   0   0   0   0   0   0   0   0   0   0   0\n",
      "   0   0   0   0   0   0   0   0   0   0   0   0   0   0   0   0   0   0\n",
      "   0   0   0   0   0   0   0   0   0   0   0   0   0   0   0   0   0   0\n",
      "   0   0   0   0   0   0   0   0   3  18  18  18 126 136 175  26 166 255\n",
      " 247 127   0   0   0   0   0   0   0   0   0   0   0   0  30  36  94 154\n",
      " 170 253 253 253 253 253 225 172 253 242 195  64   0   0   0   0   0   0\n",
      "   0   0   0   0   0  49 238 253 253 253 253 253 253 253 253 251  93  82\n",
      "  82  56  39   0   0   0   0   0   0   0   0   0   0   0   0  18 219 253\n",
      " 253 253 253 253 198 182 247 241   0   0   0   0   0   0   0   0   0   0\n",
      "   0   0   0   0   0   0   0   0  80 156 107 253 253 205  11   0  43 154\n",
      "   0   0   0   0   0   0   0   0   0   0   0   0   0   0   0   0   0   0\n",
      "   0  14   1 154 253  90   0   0   0   0   0   0   0   0   0   0   0   0\n",
      "   0   0   0   0   0   0   0   0   0   0   0   0   0 139 253 190   2   0\n",
      "   0   0   0   0   0   0   0   0   0   0   0   0   0   0   0   0   0   0\n",
      "   0   0   0   0   0  11 190 253  70   0   0   0   0   0   0   0   0   0\n",
      "   0   0   0   0   0   0   0   0   0   0   0   0   0   0   0   0  35 241\n",
      " 225 160 108   1   0   0   0   0   0   0   0   0   0   0   0   0   0   0\n",
      "   0   0   0   0   0   0   0   0   0  81 240 253 253 119  25   0   0   0\n",
      "   0   0   0   0   0   0   0   0   0   0   0   0   0   0   0   0   0   0\n",
      "   0   0  45 186 253 253 150  27   0   0   0   0   0   0   0   0   0   0\n",
      "   0   0   0   0   0   0   0   0   0   0   0   0   0  16  93 252 253 187\n",
      "   0   0   0   0   0   0   0   0   0   0   0   0   0   0   0   0   0   0\n",
      "   0   0   0   0   0   0   0 249 253 249  64   0   0   0   0   0   0   0\n",
      "   0   0   0   0   0   0   0   0   0   0   0   0   0   0  46 130 183 253\n",
      " 253 207   2   0   0   0   0   0   0   0   0   0   0   0   0   0   0   0\n",
      "   0   0   0   0  39 148 229 253 253 253 250 182   0   0   0   0   0   0\n",
      "   0   0   0   0   0   0   0   0   0   0   0   0  24 114 221 253 253 253\n",
      " 253 201  78   0   0   0   0   0   0   0   0   0   0   0   0   0   0   0\n",
      "   0   0  23  66 213 253 253 253 253 198  81   2   0   0   0   0   0   0\n",
      "   0   0   0   0   0   0   0   0   0   0  18 171 219 253 253 253 253 195\n",
      "  80   9   0   0   0   0   0   0   0   0   0   0   0   0   0   0   0   0\n",
      "  55 172 226 253 253 253 253 244 133  11   0   0   0   0   0   0   0   0\n",
      "   0   0   0   0   0   0   0   0   0   0 136 253 253 253 212 135 132  16\n",
      "   0   0   0   0   0   0   0   0   0   0   0   0   0   0   0   0   0   0\n",
      "   0   0   0   0   0   0   0   0   0   0   0   0   0   0   0   0   0   0\n",
      "   0   0   0   0   0   0   0   0   0   0   0   0   0   0   0   0   0   0\n",
      "   0   0   0   0   0   0   0   0   0   0   0   0   0   0   0   0   0   0\n",
      "   0   0   0   0   0   0   0   0   0   0   0   0   0   0   0   0   0   0\n",
      "   0   0   0   0   0   0   0   0   0   0]\n",
      "5\n"
     ]
    }
   ],
   "source": [
    "print(train_images[0])\n",
    "\n",
    "print(train_labels[0])"
   ]
  },
  {
   "cell_type": "code",
   "execution_count": 5,
   "metadata": {},
   "outputs": [
    {
     "name": "stdout",
     "output_type": "stream",
     "text": [
      "5\n"
     ]
    },
    {
     "data": {
      "image/png": "[encoded data removed]",
      "text/plain": [
       "<Figure size 432x288 with 1 Axes>"
      ]
     },
     "metadata": {
      "needs_background": "light"
     },
     "output_type": "display_data"
    }
   ],
   "source": [
    "plt.subplot(121)\n",
    "plt.imshow(train_images[0, :].reshape(28, -1), cmap='gray')\n",
    "plt.title('train 0')\n",
    "\n",
    "print(train_labels[0])"
   ]
  },
  {
   "cell_type": "code",
   "execution_count": 6,
   "metadata": {},
   "outputs": [],
   "source": [
    "# 获取测试集合\n",
    "\n",
    "test_labels = read_idx1(\"mnist/t10k-labels.idx1-ubyte\")\n",
    "\n",
    "test_images = read_idx3(\"mnist/t10k-images.idx3-ubyte\")\n"
   ]
  },
  {
   "cell_type": "code",
   "execution_count": 7,
   "metadata": {},
   "outputs": [
    {
     "name": "stdout",
     "output_type": "stream",
     "text": [
      "7\n"
     ]
    },
    {
     "data": {
      "text/plain": [
       "Text(0.5, 1.0, 'test 0')"
      ]
     },
     "execution_count": 7,
     "metadata": {},
     "output_type": "execute_result"
    },
    {
     "data": {
      "image/png": "[encoded data removed]",
      "text/plain": [
       "<Figure size 432x288 with 1 Axes>"
      ]
     },
     "metadata": {
      "needs_background": "light"
     },
     "output_type": "display_data"
    }
   ],
   "source": [
    "print(test_labels[0])\n",
    "\n",
    "plt.subplot(122)\n",
    "plt.imshow(test_images[0, :].reshape(28, -1), cmap='gray')\n",
    "plt.title('test 0')"
   ]
  },
  {
   "cell_type": "code",
   "execution_count": 8,
   "metadata": {},
   "outputs": [
    {
     "name": "stdout",
     "output_type": "stream",
     "text": [
      "(10000, 784)\n"
     ]
    }
   ],
   "source": [
    "print(test_images.shape)\n",
    "\n",
    "# 使用测试集 作为预处理\n",
    "\n",
    "from collections import defaultdict\n",
    "\n",
    "data = defaultdict(lambda : [])\n",
    "\n",
    "def sHash(img):\n",
    "    \"\"\"感知哈希\n",
    "\n",
    "    Args:\n",
    "        img ([type]): 一维 784 的数组\n",
    "\n",
    "    Returns:\n",
    "        [str]: 感知哈希\n",
    "    \"\"\"\n",
    "    # 感知 哈希\n",
    "    hash_val = ''\n",
    "    avg = img.mean()\n",
    "    \n",
    "    for x in range(len(img)):\n",
    "        if img[x] > avg:\n",
    "            hash_val += '1'\n",
    "        else:\n",
    "            hash_val += '0'\n",
    "    return hash_val\n",
    "\n",
    "for i in range(len(test_images)):\n",
    "    img = test_images[i, :]\n",
    "    # 感知 哈希\n",
    "    \n",
    "    data[test_labels[i]].append(sHash(img))"
   ]
  },
  {
   "cell_type": "code",
   "execution_count": null,
   "metadata": {},
   "outputs": [],
   "source": [
    "# 使用训练集的第一张用来测试\n",
    "\n",
    "to_test_image = train_images[0, :]\n",
    "\n",
    "test_hash = sHash(to_test_image)\n",
    "\n",
    "def recognize_number(to_test_image_sHash:str):\n",
    "    \n",
    "    result = [ 0 for i in range(10)]\n",
    "    \n",
    "    \n",
    "    for k,v in data.items():\n",
    "    # k - 数字  v - 每个数字的所有感知哈希值\n",
    "    # 遍历所有的哈希并计算值\n",
    "        for hash_val in v:\n",
    "            leven_val = Levenshtein.ratio(to_test_image_sHash, hash_val)\n",
    "            if leven_val > result[k]:\n",
    "                result[k] = leven_val\n",
    "\n",
    "    return result\n",
    "\n"
   ]
  },
  {
   "cell_type": "code",
   "execution_count": null,
   "metadata": {},
   "outputs": [
    {
     "name": "stdout",
     "output_type": "stream",
     "text": [
      "0.9553571428571429\n",
      "5\n",
      "[0.9183673469387755, 0.9260204081632653, 0.9451530612244898, 0.9438775510204082, 0.8864795918367347, 0.9553571428571429, 0.9260204081632653, 0.9387755102040817, 0.9438775510204082, 0.9158163265306123]\n"
     ]
    }
   ],
   "source": [
    "\n",
    "result = recognize_number(test_hash)\n",
    "print(max(result))\n",
    "\n",
    "print(result.index(max(result)))\n",
    "\n",
    "print(result)\n"
   ]
  },
  {
   "cell_type": "code",
   "execution_count": null,
   "metadata": {},
   "outputs": [
    {
     "name": "stdout",
     "output_type": "stream",
     "text": [
      "0.9438775510204082\n",
      "6\n",
      "[0.9285714285714286, 0.9119897959183674, 0.9323979591836735, 0.9349489795918368, 0.8877551020408163, 0.9298469387755102, 0.9438775510204082, 0.8915816326530612, 0.9260204081632653, 0.9081632653061225]\n"
     ]
    },
    {
     "data": {
      "image/png": "[encoded data removed]",
      "text/plain": [
       "<Figure size 432x288 with 1 Axes>"
      ]
     },
     "metadata": {
      "needs_background": "light"
     },
     "output_type": "display_data"
    }
   ],
   "source": [
    "# 使用我们自己写的图片\n",
    "\n",
    "from PIL import Image\n",
    "\n",
    "diy_image = Image.open('MNIST-4.jpg')\n",
    "\n",
    "\n",
    "diy_arr = np.array(diy_image).flatten()\n",
    "\n",
    "plt.subplot(122)\n",
    "plt.imshow(diy_arr.reshape(28, -1), cmap='gray')\n",
    "plt.title('diy 0')\n",
    "\n",
    "diy_arr = diy_arr.flatten()\n",
    "# print(sHash(diy_arr))\n",
    "r = recognize_number(sHash(diy_arr))\n",
    "print(max(r))\n",
    "\n",
    "print(r.index(max(r)))\n",
    "\n",
    "print(r)\n"
   ]
  },
  {
   "cell_type": "code",
   "execution_count": null,
   "metadata": {},
   "outputs": [],
   "source": [
    "# 测试结果准确率\n",
    "\n",
    "statis = {}\n",
    "\n",
    "for i in range(0, 10):\n",
    "    statis[i] = {}\n",
    "    \n",
    "    statis[i][\"correct\"] = 0\n",
    "    statis[i][\"all\"] = 0\n",
    "\n",
    "for i in range(100):\n",
    "    shash_val = sHash(train_images[i, :])\n",
    "    \n",
    "    r = recognize_number(shash_val)\n",
    "    \n",
    "    real_val = train_labels[i]\n",
    "    if r.index(max(r)) == real_val:\n",
    "        statis[real_val][\"correct\"] += 1\n",
    "    \n",
    "    statis[real_val][\"all\"] += 1\n",
    "\n"
   ]
  },
  {
   "cell_type": "code",
   "execution_count": null,
   "metadata": {},
   "outputs": [
    {
     "name": "stdout",
     "output_type": "stream",
     "text": [
      "0 1.0\n",
      "1 0.9285714285714286\n",
      "2 0.8333333333333334\n",
      "3 0.9090909090909091\n",
      "4 0.9090909090909091\n",
      "5 1.0\n",
      "6 1.0\n",
      "7 0.9\n",
      "8 1.0\n",
      "9 0.8181818181818182\n"
     ]
    }
   ],
   "source": [
    "from icecream import ic\n",
    "\n",
    "\n",
    "\n",
    "for i in range(10):\n",
    "    print(i, statis[i][\"correct\"] / statis[i][\"all\"])"
   ]
  },
  {
   "cell_type": "code",
   "execution_count": 2,
   "metadata": {},
   "outputs": [],
   "source": [
    "import cv2\n",
    "\n"
   ]
  },
  {
   "cell_type": "code",
   "execution_count": 36,
   "metadata": {},
   "outputs": [],
   "source": [
    "# 展示图片\n",
    "def img_show_array(a):\n",
    "    plt.imshow(a, cmap='gray')\n",
    "    \n",
    "# 展示投影图， 输入参数arr是图片的二维数组，direction是x,y轴\n",
    "def show_shadow(arr, direction = 'x'):\n",
    "\n",
    "    a_max = max(arr)\n",
    "    if direction == 'x': # x轴方向的投影\n",
    "        a_shadow = np.zeros((a_max, len(arr)), dtype=int)\n",
    "        for i in range(0,len(arr)):\n",
    "            if arr[i] == 0:\n",
    "                continue\n",
    "            for j in range(0, arr[i]):\n",
    "                a_shadow[j][i] = 255\n",
    "    elif direction == 'y': # y轴方向的投影\n",
    "        a_shadow = np.zeros((len(arr),a_max), dtype=int)\n",
    "        for i in range(0,len(arr)):\n",
    "            if arr[i] == 0:\n",
    "                continue\n",
    "            for j in range(0, arr[i]):\n",
    "                a_shadow[i][j] = 255\n",
    "\n",
    "    plt.imshow(a_shadow)"
   ]
  },
  {
   "cell_type": "code",
   "execution_count": 4,
   "metadata": {},
   "outputs": [
    {
     "data": {
      "image/png": "[encoded data removed]",
      "text/plain": [
       "<Figure size 432x288 with 1 Axes>"
      ]
     },
     "metadata": {
      "needs_background": "light"
     },
     "output_type": "display_data"
    }
   ],
   "source": [
    "img = cv2.imread('./out/gray-no-title.jpg', cv2.IMREAD_GRAYSCALE)\n",
    "\n",
    "ret,img_threshed=cv2.threshold(img, 95, 255, 1)\n",
    "\n",
    "img_show_array(img_threshed)"
   ]
  },
  {
   "cell_type": "code",
   "execution_count": 5,
   "metadata": {},
   "outputs": [
    {
     "data": {
      "text/plain": [
       "(140, 229)"
      ]
     },
     "execution_count": 5,
     "metadata": {},
     "output_type": "execute_result"
    }
   ],
   "source": [
    "img_threshed.shape"
   ]
  },
  {
   "cell_type": "code",
   "execution_count": 6,
   "metadata": {},
   "outputs": [
    {
     "data": {
      "image/png": "[encoded data removed]",
      "text/plain": [
       "<Figure size 432x288 with 1 Axes>"
      ]
     },
     "metadata": {
      "needs_background": "light"
     },
     "output_type": "display_data"
    }
   ],
   "source": [
    "def img_y_shadow(img_b):\n",
    "    ### 计算投影 ###\n",
    "    (h,w)=img_b.shape\n",
    "    # 初始化一个跟图像高一样长度的数组，用于记录每一行的黑点个数\n",
    "    a=[0 for _ in range(0,h)]\n",
    "    # 遍历每一列，记录下这一列包含多少有效像素点\n",
    "    for i in range(0,h):          \n",
    "        for j in range(0,w):      \n",
    "            if img_b[i,j]==255:     \n",
    "                a[i]+=1  \n",
    "    return a\n",
    " \n",
    "shadow_on_y = img_y_shadow(img_threshed)\n",
    "\n",
    "\n",
    "show_shadow(shadow_on_y, 'y')"
   ]
  },
  {
   "cell_type": "code",
   "execution_count": 7,
   "metadata": {},
   "outputs": [],
   "source": [
    "def img2rows(a,w,h):\n",
    "    \n",
    "    ### 根据投影切分图块 ### \n",
    "    inLine = False # 是否已经开始切分\n",
    "    start = 0 # 某次切分的起始索引\n",
    "    mark_boxs = []\n",
    "    for i in range(0,len(a)):        \n",
    "        if inLine == False and a[i] > 10:\n",
    "            inLine = True\n",
    "            start = i\n",
    "        # 记录这次选中的区域[左，上，右，下]，上下就是图片，左右是start到当前\n",
    "        elif i-start >5 and a[i] < 10 and inLine:\n",
    "            inLine = False\n",
    "            if i-start > 10:\n",
    "                top = max(start-1, 0)\n",
    "                bottom = min(h, i+1)\n",
    "                box = [0, top, w, bottom]\n",
    "                mark_boxs.append(box) \n",
    "                \n",
    "    return mark_boxs"
   ]
  },
  {
   "cell_type": "code",
   "execution_count": 8,
   "metadata": {},
   "outputs": [
    {
     "name": "stdout",
     "output_type": "stream",
     "text": [
      "[[0, 10, 229, 26], [0, 46, 229, 62], [0, 82, 229, 96], [0, 116, 229, 132]]\n"
     ]
    }
   ],
   "source": [
    "(img_h,img_w)=img.shape\n",
    "row_mark_boxs = img2rows(shadow_on_y,img_w,img_h)\n",
    "print(row_mark_boxs)"
   ]
  },
  {
   "cell_type": "code",
   "execution_count": 9,
   "metadata": {},
   "outputs": [
    {
     "name": "stdout",
     "output_type": "stream",
     "text": [
      "['./cut-rows/part_0.jpg', './cut-rows/part_1.jpg', './cut-rows/part_2.jpg', './cut-rows/part_3.jpg']\n"
     ]
    }
   ],
   "source": [
    "# 裁剪图片,img 图片数组， mark_boxs 区域标记\n",
    "def cut_img(img, mark_boxs):\n",
    "\n",
    "    img_items = [] # 存放裁剪好的图片\n",
    "    for i in range(0,len(mark_boxs)):\n",
    "        img_org = img.copy()\n",
    "        box = mark_boxs[i]\n",
    "        # 裁剪图片\n",
    "        img_item = img_org[box[1]:box[3], box[0]:box[2]]\n",
    "        img_items.append(img_item)\n",
    "    return img_items\n",
    "\n",
    "# 保存图片\n",
    "def save_imgs(dir_name, imgs):\n",
    "\n",
    "    img_paths = []\n",
    "    for i in range(0,len(imgs)):\n",
    "        file_path = dir_name+'part_'+str(i)+'.jpg'\n",
    "        cv2.imwrite(file_path,imgs[i])\n",
    "        img_paths.append(file_path)\n",
    "    \n",
    "    return img_paths\n",
    "\n",
    "# 切图并保存\n",
    "row_imgs = cut_img(img_threshed, row_mark_boxs)\n",
    "imgs = save_imgs('./cut-rows/', row_imgs) # 如果要保存切图\n",
    "print(imgs)"
   ]
  },
  {
   "cell_type": "code",
   "execution_count": 47,
   "metadata": {},
   "outputs": [
    {
     "name": "stdout",
     "output_type": "stream",
     "text": [
      "0\n"
     ]
    },
    {
     "data": {
      "image/png": "[encoded data removed]",
      "text/plain": [
       "<Figure size 432x288 with 1 Axes>"
      ]
     },
     "metadata": {
      "needs_background": "light"
     },
     "output_type": "display_data"
    }
   ],
   "source": [
    "# 切每行\n",
    "\n",
    "for index, row_img in enumerate(row_imgs):\n",
    "    # 纵向映射\n",
    "    if index != 2:\n",
    "        continue\n",
    "    #! 膨胀图片\n",
    "    row_img = cv2.dilate(row_img, np.ones((2,1),np.uint8), iterations=10)\n",
    "    ### 计算投影 ###\n",
    "    # plt.imshow(row_img, cmap='gray')\n",
    "    (h,w)=row_img.shape\n",
    "\n",
    "    dots_num = [0 for _ in range(0,w)]\n",
    "    # 遍历每一列，记录下这一列包含多少有效像素点\n",
    "    # 每列\n",
    "    for i in range(0,w):\n",
    "        # 第 i 列的每一行          \n",
    "        for j in range(0,h):   \n",
    "            # 判断白点   \n",
    "            if row_img[j,i] == 0:     \n",
    "                dots_num[i] += 1\n",
    "     ### 根据投影切分图块 ### \n",
    "    show_shadow(dots_num, 'x')\n",
    "    is_start = False # 是否已经开始切分\n",
    "    start_index = 0 # 每次切分的起始索引\n",
    "    mark_boxs = []\n",
    "    for i in range(0,len(dots_num)):        \n",
    "        if is_start == False and dots_num[i] < 15:\n",
    "            is_start = True\n",
    "            start_index = i\n",
    "            # print(f\"start_index: {start_index}\")\n",
    "        # 记录这次选中的区域[左，上，右，下]，上下就是图片，左右是start到当前\n",
    "        elif is_start and dots_num[i] >= 15:\n",
    "            is_start = False\n",
    "            if i-start_index > 4:\n",
    "                left = max(start_index-1, 0)\n",
    "                right = min(w, i+1)\n",
    "                box = [left, 0, right, 0]\n",
    "                mark_boxs.append(box)\n",
    "                # print(left) \n",
    "    print(len(mark_boxs))\n",
    "    # 裁剪图片\n",
    "    \n",
    "    img_items = [] # 存放裁剪好的图片\n",
    "    for i in range(0,len(mark_boxs)):\n",
    "        img_org = img.copy()\n",
    "        box = mark_boxs[i]\n",
    "        # 裁剪图片\n",
    "        img_item = img_org[box[1]:box[3], box[0]:box[2]]\n",
    "        img_items.append(img_item)\n",
    "    # 保存图片\n",
    "    # img_paths = []\n",
    "    # for i in range(0,len(img_items)):\n",
    "    #     file_path = './cut-rows/'+'row-'+str(index)+ '/' + str(i) +  '.jpg'\n",
    "    #     cv2.imwrite(file_path,img_items[i])\n",
    "    #     img_paths.append(file_path)\n",
    "    \n",
    "    "
   ]
  }
 ],
 "metadata": {
  "celltoolbar": "幻灯片",
  "interpreter": {
   "hash": "b486024881bd5bec090869095d006737bfa080e96b026fae63476258b2d8db6e"
  },
  "kernelspec": {
   "display_name": "cv",
   "language": "python",
   "name": "python3"
  },
  "language_info": {
   "codemirror_mode": {
    "name": "ipython",
    "version": 3
   },
   "file_extension": ".py",
   "mimetype": "text/x-python",
   "name": "python",
   "nbconvert_exporter": "python",
   "pygments_lexer": "ipython3",
   "version": "3.8.10"
  }
 },
 "nbformat": 4,
 "nbformat_minor": 2
}
